{
 "cells": [
  {
   "cell_type": "markdown",
   "id": "db24ffcc-6ad3-4cc1-b39b-06ccef59360c",
   "metadata": {
    "tags": []
   },
   "source": [
    "(1.1)"
   ]
  },
  {
   "cell_type": "raw",
   "id": "e644475c-06d6-4091-8a03-e91bc7fe36c2",
   "metadata": {
    "tags": []
   },
   "source": [
    "for i in range(n):\n",
    "    i*=i \n",
    "    if i>=n:\n",
    "        break"
   ]
  },
  {
   "cell_type": "markdown",
   "id": "c8a4d7d3-3a0f-4572-99c7-4fe22f4f350a",
   "metadata": {},
   "source": [
    "Time complexity is O(n). The loop runs n times (in worst case scenario), where n is the input value."
   ]
  },
  {
   "cell_type": "markdown",
   "id": "b0701d51-d6c0-48a7-babd-f3f793396ac6",
   "metadata": {},
   "source": [
    "(1.2)"
   ]
  },
  {
   "cell_type": "raw",
   "id": "ee4bee7e-2f14-4bb0-baae-8bd23a9de1ed",
   "metadata": {
    "tags": []
   },
   "source": [
    "for i in range(n):\n",
    "    i=pow(2,i)\n",
    "    if i>(n+1):\n",
    "        break"
   ]
  },
  {
   "cell_type": "markdown",
   "id": "c6a3b3a0-ba00-4606-b070-c06172309d31",
   "metadata": {},
   "source": [
    "Time complexity is O(log n). The loop runs for n iterations, but i is updated using pow(2, i) which doubles the value of i in each iteration. This results in a logarithmic growth in the value of i."
   ]
  },
  {
   "cell_type": "markdown",
   "id": "872f8d66-239a-430c-93f8-2d194c208f5a",
   "metadata": {},
   "source": [
    "(1.3)"
   ]
  },
  {
   "cell_type": "raw",
   "id": "ed807b1c-cd48-4dbc-9ebc-32d19dee6405",
   "metadata": {
    "tags": []
   },
   "source": [
    "def complex_method(n):\n",
    "    for i in range (n):\n",
    "        print (i,n)\n",
    "        if n>1:\n",
    "            complex_method(n-1)\n",
    "        else:\n",
    "            return True"
   ]
  },
  {
   "cell_type": "markdown",
   "id": "d3821a66-cd63-47db-95ca-ea2f86e93dac",
   "metadata": {},
   "source": [
    "Time complexity O(n!). The method calls itself recursively n-1 times. This results in a factorial time complexity as the number of recursive calls grows exponentially with the input size."
   ]
  },
  {
   "cell_type": "markdown",
   "id": "3fc3bbdb-36e2-4fd0-8ea0-ff8f07fbff8d",
   "metadata": {},
   "source": [
    "(2.1)"
   ]
  },
  {
   "cell_type": "code",
   "execution_count": 1,
   "id": "4902222d-0c74-4224-89ca-4fcfc0540d6a",
   "metadata": {
    "tags": []
   },
   "outputs": [],
   "source": [
    "# Calculating the sum of digits for a given natural number n\n",
    "def digit_sum(n):\n",
    "    if n == 0: # If n is 0, the sum of digits is 0\n",
    "        return 0\n",
    "    else:\n",
    "# Extracting the last digit of n using '%10'; recursively calling digit_sum with 'n//10' that removes the last digit from the number\n",
    "        return n % 10 + digit_sum(n // 10)"
   ]
  },
  {
   "cell_type": "code",
   "execution_count": 2,
   "id": "47b562bc-a3d2-4c49-9d10-c1377f66109c",
   "metadata": {
    "tags": []
   },
   "outputs": [
    {
     "name": "stdout",
     "output_type": "stream",
     "text": [
      "The sum of digits of 53872 is: 25\n"
     ]
    }
   ],
   "source": [
    "# Example for digit_sum\n",
    "number_for_check = 53872\n",
    "dig = digit_sum(number_for_check) # Storing the result of calling digit_sum in 'dig' variable\n",
    "print (\"The sum of digits of \"+str(number_for_check)+\" is: \"+str(dig)) # Printing a formatted string"
   ]
  },
  {
   "cell_type": "markdown",
   "id": "eb79f01a-db48-4313-add9-80e7e032fc32",
   "metadata": {},
   "source": [
    "(2.2)"
   ]
  },
  {
   "cell_type": "code",
   "execution_count": 3,
   "id": "f322ad1d-d6bc-42d5-aa6c-13841600d375",
   "metadata": {
    "tags": []
   },
   "outputs": [],
   "source": [
    "# Calculating the sum of all numbers from 0 up to and including the given number for a given natural number n\n",
    "def summing_up(n):\n",
    "    if n == 0: # If n is 0, the sum is 0\n",
    "        return 0\n",
    "    else:\n",
    "        return n + summing_up(n - 1) # Adding n to the result of recursively called summing_up with n-1"
   ]
  },
  {
   "cell_type": "code",
   "execution_count": 4,
   "id": "49d24f9a-b00a-4636-97e8-e93b5983a3c0",
   "metadata": {
    "tags": []
   },
   "outputs": [
    {
     "name": "stdout",
     "output_type": "stream",
     "text": [
      "The sum of numbers from 0 to 5 is: 15\n"
     ]
    }
   ],
   "source": [
    "# Example for summing_up\n",
    "number_for_check = 5\n",
    "summing = summing_up(number_for_check) # Storing the result of calling summing_up in 'summing' variable\n",
    "print (\"The sum of numbers from 0 to \"+str(number_for_check)+\" is: \"+str(summing)) # Printing a formatted string"
   ]
  },
  {
   "cell_type": "markdown",
   "id": "a5e0058a-8674-4c3d-8c42-c1d9d78c15aa",
   "metadata": {},
   "source": [
    "(2.3)"
   ]
  },
  {
   "cell_type": "code",
   "execution_count": 5,
   "id": "6c14432a-eb04-4750-b0e1-c059973a7a1d",
   "metadata": {
    "tags": []
   },
   "outputs": [],
   "source": [
    "# Calculating the Fibonacci value for a given number\n",
    "def fibonacci(n):\n",
    "    if n <= 1: # If n is 0 or 1, the function returns n (because fibonacci(0) is 0, and fibonacci(1) is 1)\n",
    "        return n\n",
    "    else:\n",
    "        return fibonacci(n - 1) + fibonacci(n - 2) # Adding the results of recursively called fibonacci with n-1 and n-2"
   ]
  },
  {
   "cell_type": "code",
   "execution_count": 6,
   "id": "14f3086e-da5b-4e21-9153-399e107dbf45",
   "metadata": {
    "tags": []
   },
   "outputs": [
    {
     "name": "stdout",
     "output_type": "stream",
     "text": [
      "The Fibonacci number for 8 is: 21\n"
     ]
    }
   ],
   "source": [
    "# Example for fibonacci\n",
    "number_for_check = 8\n",
    "fib = fibonacci(number_for_check) # Storing the result of calling fibonacci in 'fib' variable\n",
    "print (\"The Fibonacci number for \"+str(number_for_check)+\" is: \"+str(fib)) # Printing a formatted string"
   ]
  },
  {
   "cell_type": "markdown",
   "id": "7f8ace41-93c6-4d65-8829-ca23aa91ec94",
   "metadata": {},
   "source": [
    "_____________________________________________________________________________________________________________________________________________"
   ]
  },
  {
   "cell_type": "markdown",
   "id": "012cb6ae-7be7-4761-ac3f-d5261ea73350",
   "metadata": {},
   "source": [
    "Time complexity is O(2^n). For each call to the function, two recursive calls are made, resulting in a binary tree of function calls with a total of 2^n function calls."
   ]
  }
 ],
 "metadata": {
  "kernelspec": {
   "display_name": "Python 3 (ipykernel)",
   "language": "python",
   "name": "python3"
  },
  "language_info": {
   "codemirror_mode": {
    "name": "ipython",
    "version": 3
   },
   "file_extension": ".py",
   "mimetype": "text/x-python",
   "name": "python",
   "nbconvert_exporter": "python",
   "pygments_lexer": "ipython3",
   "version": "3.10.8"
  }
 },
 "nbformat": 4,
 "nbformat_minor": 5
}
